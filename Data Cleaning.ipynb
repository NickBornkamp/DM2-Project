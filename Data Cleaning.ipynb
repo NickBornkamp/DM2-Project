{
 "cells": [
  {
   "cell_type": "code",
   "execution_count": 3,
   "id": "e334384c",
   "metadata": {},
   "outputs": [
    {
     "name": "stderr",
     "output_type": "stream",
     "text": [
      "C:\\Users\\nickr\\anaconda3\\lib\\site-packages\\scipy\\__init__.py:146: UserWarning: A NumPy version >=1.16.5 and <1.23.0 is required for this version of SciPy (detected version 1.24.2\n",
      "  warnings.warn(f\"A NumPy version >={np_minversion} and <{np_maxversion}\"\n"
     ]
    },
    {
     "data": {
      "text/plain": [
       "'This cannot be the worst, i am sure'"
      ]
     },
     "execution_count": 3,
     "metadata": {},
     "output_type": "execute_result"
    }
   ],
   "source": [
    "import keras\n",
    "import tensorflow as tf\n",
    "import pandas as pd\n",
    "import csv\n",
    "import statistics as st\n",
    "\n",
    "import nltk\n",
    "from nltk.sentiment.vader import SentimentIntensityAnalyzer\n",
    "from nltk.corpus import stopwords\n",
    "from nltk.tokenize import word_tokenize\n",
    "from nltk.stem import WordNetLemmatizer\n",
    "\n",
    "import contractions\n",
    "contractions.fix(\"This can't be the worst, i'm sure\")"
   ]
  },
  {
   "cell_type": "code",
   "execution_count": 4,
   "id": "27dfc05a",
   "metadata": {},
   "outputs": [
    {
     "name": "stdout",
     "output_type": "stream",
     "text": [
      "<class 'pandas.core.frame.DataFrame'>\n",
      "Index: 5332 entries, 0 to 5369\n",
      "Data columns (total 7 columns):\n",
      " #   Column             Non-Null Count  Dtype \n",
      "---  ------             --------------  ----- \n",
      " 0   Company            5332 non-null   object\n",
      " 1   Job Title          5332 non-null   object\n",
      " 2   Employement Level  5332 non-null   int64 \n",
      " 3   Review Title       5332 non-null   object\n",
      " 4   Pros               5332 non-null   object\n",
      " 5   Cons               5332 non-null   object\n",
      " 6   Rating             5332 non-null   int64 \n",
      "dtypes: int64(2), object(5)\n",
      "memory usage: 333.2+ KB\n"
     ]
    }
   ],
   "source": [
    "df = pd.read_csv('Full Dataset.csv', encoding='utf8')\n",
    "df = df.dropna()\n",
    "df.info()"
   ]
  },
  {
   "cell_type": "code",
   "execution_count": 5,
   "id": "b7049970",
   "metadata": {},
   "outputs": [
    {
     "data": {
      "text/html": [
       "<div>\n",
       "<style scoped>\n",
       "    .dataframe tbody tr th:only-of-type {\n",
       "        vertical-align: middle;\n",
       "    }\n",
       "\n",
       "    .dataframe tbody tr th {\n",
       "        vertical-align: top;\n",
       "    }\n",
       "\n",
       "    .dataframe thead th {\n",
       "        text-align: right;\n",
       "    }\n",
       "</style>\n",
       "<table border=\"1\" class=\"dataframe\">\n",
       "  <thead>\n",
       "    <tr style=\"text-align: right;\">\n",
       "      <th></th>\n",
       "      <th>Company</th>\n",
       "      <th>Job Title</th>\n",
       "      <th>Employement Level</th>\n",
       "      <th>Review Title</th>\n",
       "      <th>Pros</th>\n",
       "      <th>Cons</th>\n",
       "      <th>Rating</th>\n",
       "    </tr>\n",
       "  </thead>\n",
       "  <tbody>\n",
       "    <tr>\n",
       "      <th>0</th>\n",
       "      <td>eBay</td>\n",
       "      <td>Consultant</td>\n",
       "      <td>0</td>\n",
       "      <td>Good Company</td>\n",
       "      <td>The people and the company culture is Warm. Lo...</td>\n",
       "      <td>The company is very old fashioned and the proj...</td>\n",
       "      <td>5</td>\n",
       "    </tr>\n",
       "    <tr>\n",
       "      <th>1</th>\n",
       "      <td>eBay</td>\n",
       "      <td>Authentication Center Generalist</td>\n",
       "      <td>0</td>\n",
       "      <td>A step in the wrong direction</td>\n",
       "      <td>Since eBay's acquisition of my employer, TCGpl...</td>\n",
       "      <td>Regrettably, eBay has made a mess of their acq...</td>\n",
       "      <td>2</td>\n",
       "    </tr>\n",
       "    <tr>\n",
       "      <th>2</th>\n",
       "      <td>eBay</td>\n",
       "      <td>Software Development Engineer (SDE)</td>\n",
       "      <td>0</td>\n",
       "      <td>Good</td>\n",
       "      <td>Good company to work with</td>\n",
       "      <td>Cafeteria need to have more choice</td>\n",
       "      <td>5</td>\n",
       "    </tr>\n",
       "    <tr>\n",
       "      <th>3</th>\n",
       "      <td>eBay</td>\n",
       "      <td>Strategic Account Manager</td>\n",
       "      <td>1</td>\n",
       "      <td>Good Environment</td>\n",
       "      <td>Great culture, good benefits, good options for...</td>\n",
       "      <td>Slow, risk adverse, reinvention in progress</td>\n",
       "      <td>4</td>\n",
       "    </tr>\n",
       "    <tr>\n",
       "      <th>4</th>\n",
       "      <td>eBay</td>\n",
       "      <td>Manager</td>\n",
       "      <td>1</td>\n",
       "      <td>Manager</td>\n",
       "      <td>Good benefits with good environment</td>\n",
       "      <td>Nothing really much to say</td>\n",
       "      <td>4</td>\n",
       "    </tr>\n",
       "  </tbody>\n",
       "</table>\n",
       "</div>"
      ],
      "text/plain": [
       "  Company                            Job Title  Employement Level  \\\n",
       "0    eBay                           Consultant                  0   \n",
       "1    eBay     Authentication Center Generalist                  0   \n",
       "2    eBay  Software Development Engineer (SDE)                  0   \n",
       "3    eBay            Strategic Account Manager                  1   \n",
       "4    eBay                              Manager                  1   \n",
       "\n",
       "                    Review Title  \\\n",
       "0                   Good Company   \n",
       "1  A step in the wrong direction   \n",
       "2                           Good   \n",
       "3               Good Environment   \n",
       "4                        Manager   \n",
       "\n",
       "                                                Pros  \\\n",
       "0  The people and the company culture is Warm. Lo...   \n",
       "1  Since eBay's acquisition of my employer, TCGpl...   \n",
       "2                          Good company to work with   \n",
       "3  Great culture, good benefits, good options for...   \n",
       "4                Good benefits with good environment   \n",
       "\n",
       "                                                Cons  Rating  \n",
       "0  The company is very old fashioned and the proj...       5  \n",
       "1  Regrettably, eBay has made a mess of their acq...       2  \n",
       "2                 Cafeteria need to have more choice       5  \n",
       "3        Slow, risk adverse, reinvention in progress       4  \n",
       "4                         Nothing really much to say       4  "
      ]
     },
     "execution_count": 5,
     "metadata": {},
     "output_type": "execute_result"
    }
   ],
   "source": [
    "df.head()"
   ]
  },
  {
   "cell_type": "code",
   "execution_count": 6,
   "id": "a1f1ff10",
   "metadata": {},
   "outputs": [
    {
     "name": "stdout",
     "output_type": "stream",
     "text": [
      "1079\n",
      "1795\n"
     ]
    }
   ],
   "source": [
    "def print_full(x):\n",
    "    pd.set_option('display.max_rows', len(x))\n",
    "    print(x)\n",
    "    pd.reset_option('display.max_rows')\n",
    "\n",
    "\n",
    "print(df['Employement Level'].value_counts()[1])\n",
    "#print(df['Employement Level'].value_counts()['1'])\n",
    "unique_counts = df['Job Title'].value_counts()\n",
    "\n",
    "print(len(unique_counts))"
   ]
  },
  {
   "cell_type": "code",
   "execution_count": 7,
   "id": "d605e3dd",
   "metadata": {},
   "outputs": [],
   "source": [
    "def getLongestContent(df, column):\n",
    "    longest = 0\n",
    "    longestContent = \"\"\n",
    "    entry = \"\"\n",
    "    for index, row in df.iterrows():\n",
    "        pro = row[column].split()\n",
    "        if(len(pro) > longest):\n",
    "            longest = len(pro)\n",
    "            longestContent = pro\n",
    "            entry = row\n",
    "    return entry#longest#, entry"
   ]
  },
  {
   "cell_type": "code",
   "execution_count": 8,
   "id": "dd75d209",
   "metadata": {},
   "outputs": [
    {
     "name": "stdout",
     "output_type": "stream",
     "text": [
      "Review Title :  Company                                                         Amazon\n",
      "Job Title                                              Receiver/Picker\n",
      "Employement Level                                                    0\n",
      "Review Title         I love it here it's a lot to learn in Amazon T...\n",
      "Pros                 They help you learn a lot they teach you every...\n",
      "Cons                 I really haven't seen any yet well I just real...\n",
      "Rating                                                               5\n",
      "Name: 1030, dtype: object\n",
      "Pros :  Company                                                          Tesla\n",
      "Job Title                                                Test Engineer\n",
      "Employement Level                                                    0\n",
      "Review Title                                             Test Engineer\n",
      "Pros                 Working at Tesla can offer a unique and exciti...\n",
      "Cons                 While there are many positive aspects of worki...\n",
      "Rating                                                               4\n",
      "Name: 4057, dtype: object\n",
      "Cons :  Company                                                           eBay\n",
      "Job Title                                                  Ex-employee\n",
      "Employement Level                                                    0\n",
      "Review Title                       You'll enjoy training and that's it\n",
      "Pros                 Yes, you don't speak about any problems you're...\n",
      "Cons                 The cons are being trained one way and getting...\n",
      "Rating                                                               1\n",
      "Name: 368, dtype: object\n"
     ]
    }
   ],
   "source": [
    "sentenceHeaders = ['Review Title', 'Pros', 'Cons']\n",
    "for header in sentenceHeaders:\n",
    "    print(header, \": \", getLongestContent(df, header))"
   ]
  },
  {
   "cell_type": "code",
   "execution_count": 24,
   "id": "682467d9",
   "metadata": {},
   "outputs": [
    {
     "name": "stdout",
     "output_type": "stream",
     "text": [
      "Review Title-neg  Done\n",
      "Review Title-neu  Done\n",
      "Review Title-pos  Done\n",
      "Review Title-compound  Done\n",
      "Review Title  done.\n",
      "Pros-neg  Done\n",
      "Pros-neu  Done\n",
      "Pros-pos  Done\n",
      "Pros-compound  Done\n",
      "Pros  done.\n",
      "Cons-neg  Done\n",
      "Cons-neu  Done\n",
      "Cons-pos  Done\n",
      "Cons-compound  Done\n",
      "Cons  done.\n"
     ]
    }
   ],
   "source": [
    "def preprocess_text(text):\n",
    "\n",
    "    # Tokenize the text\n",
    "\n",
    "    tokens = word_tokenize(contractions.fix(text.lower()))\n",
    "    filtered_tokens = [token for token in tokens if token not in stopwords.words(\"english\")]\n",
    "    lemmatizer = WordNetLemmatizer()\n",
    "    lemmatized_tokens = [lemmatizer.lemmatize(token) for token in filtered_tokens]\n",
    "    processed_text = ' '.join(lemmatized_tokens)\n",
    "    return processed_text\n",
    "\n",
    "def cleanUp(sentence):\n",
    "    return contractions.fix(sentence).lower()\n",
    "\n",
    "def sentimentScore(sentence, sent):\n",
    "    sia = SentimentIntensityAnalyzer()\n",
    "    return int(sia.polarity_scores(sentence)[sent] * 100)\n",
    "    \n",
    "cols = ['Review Title', 'Pros', 'Cons']\n",
    "sents = [\"neg\", \"neu\", \"pos\", \"compound\"]\n",
    "\n",
    "for col in cols:\n",
    "    colToken = col + \"token\"\n",
    "    for sent in sents:\n",
    "        colsent = col + \"-\" + sent\n",
    "        df[colsent] =  df[col].map(lambda s: sentimentScore(s, sent))\n",
    "        print(colsent, \" Done\")\n",
    "    df[col] = df[col].map(lambda s: cleanUp(s))\n",
    "    df[colToken] = df[col].map(preprocess_text)\n",
    "    print(col, \" done.\")\n",
    "    "
   ]
  },
  {
   "cell_type": "code",
   "execution_count": 25,
   "id": "40926bf7",
   "metadata": {
    "scrolled": true
   },
   "outputs": [
    {
     "name": "stdout",
     "output_type": "stream",
     "text": [
      "<class 'pandas.core.frame.DataFrame'>\n",
      "Index: 5332 entries, 0 to 5369\n",
      "Data columns (total 23 columns):\n",
      " #   Column                 Non-Null Count  Dtype \n",
      "---  ------                 --------------  ----- \n",
      " 0   Company                5332 non-null   object\n",
      " 1   Job Title              5332 non-null   object\n",
      " 2   Employement Level      5332 non-null   int64 \n",
      " 3   Review Title           5332 non-null   object\n",
      " 4   Pros                   5332 non-null   object\n",
      " 5   Cons                   5332 non-null   object\n",
      " 6   Rating                 5332 non-null   int64 \n",
      " 7   consTokens             5332 non-null   object\n",
      " 8   Review Title-neg       5332 non-null   int64 \n",
      " 9   Review Title-neu       5332 non-null   int64 \n",
      " 10  Review Title-pos       5332 non-null   int64 \n",
      " 11  Review Title-compound  5332 non-null   int64 \n",
      " 12  Review Titletoken      5332 non-null   object\n",
      " 13  Pros-neg               5332 non-null   int64 \n",
      " 14  Pros-neu               5332 non-null   int64 \n",
      " 15  Pros-pos               5332 non-null   int64 \n",
      " 16  Pros-compound          5332 non-null   int64 \n",
      " 17  Prostoken              5332 non-null   object\n",
      " 18  Cons-neg               5332 non-null   int64 \n",
      " 19  Cons-neu               5332 non-null   int64 \n",
      " 20  Cons-pos               5332 non-null   int64 \n",
      " 21  Cons-compound          5332 non-null   int64 \n",
      " 22  Constoken              5332 non-null   object\n",
      "dtypes: int64(14), object(9)\n",
      "memory usage: 1.1+ MB\n"
     ]
    }
   ],
   "source": [
    "df.info()"
   ]
  },
  {
   "cell_type": "code",
   "execution_count": 26,
   "id": "e435fd65",
   "metadata": {},
   "outputs": [
    {
     "data": {
      "text/plain": [
       "Company                                                               eBay\n",
       "Job Title                                                      Ex-employee\n",
       "Employement Level                                                        0\n",
       "Review Title                        you will enjoy training and that is it\n",
       "Pros                     yes, you do not speak about any problems you a...\n",
       "Cons                     the cons are being trained one way and getting...\n",
       "Rating                                                                   1\n",
       "consTokens               con trained one way getting training half told...\n",
       "Review Title-neg                                                         0\n",
       "Review Title-neu                                                        68\n",
       "Review Title-pos                                                        31\n",
       "Review Title-compound                                                   49\n",
       "Review Titletoken                                           enjoy training\n",
       "Pros-neg                                                                10\n",
       "Pros-neu                                                                69\n",
       "Pros-pos                                                                19\n",
       "Pros-compound                                                           63\n",
       "Prostoken                yes , speak problem great soon johnny care tre...\n",
       "Cons-neg                                                                12\n",
       "Cons-neu                                                                80\n",
       "Cons-pos                                                                 7\n",
       "Cons-compound                                                          -98\n",
       "Constoken                con trained one way getting training half told...\n",
       "Name: 368, dtype: object"
      ]
     },
     "execution_count": 26,
     "metadata": {},
     "output_type": "execute_result"
    }
   ],
   "source": [
    "df.loc[368] #['Review Title']"
   ]
  },
  {
   "cell_type": "code",
   "execution_count": 27,
   "id": "cea2b10a",
   "metadata": {},
   "outputs": [],
   "source": [
    "df.to_csv('Dataset Reviews.csv', index=False)  "
   ]
  },
  {
   "cell_type": "code",
   "execution_count": 20,
   "id": "44d35aa8",
   "metadata": {},
   "outputs": [
    {
     "name": "stdout",
     "output_type": "stream",
     "text": [
      "{'neg': 0.701, 'neu': 0.299, 'pos': 0.0, 'compound': -0.8857}\n"
     ]
    }
   ],
   "source": [
    "from nltk.sentiment import SentimentIntensityAnalyzer\n",
    "sia = SentimentIntensityAnalyzer()\n",
    "print(sia.polarity_scores(\"I hate this so much it's EVIL!\"))"
   ]
  },
  {
   "cell_type": "code",
   "execution_count": null,
   "id": "55516d4c",
   "metadata": {},
   "outputs": [],
   "source": []
  }
 ],
 "metadata": {
  "kernelspec": {
   "display_name": "Python 3 (ipykernel)",
   "language": "python",
   "name": "python3"
  },
  "language_info": {
   "codemirror_mode": {
    "name": "ipython",
    "version": 3
   },
   "file_extension": ".py",
   "mimetype": "text/x-python",
   "name": "python",
   "nbconvert_exporter": "python",
   "pygments_lexer": "ipython3",
   "version": "3.9.7"
  }
 },
 "nbformat": 4,
 "nbformat_minor": 5
}
